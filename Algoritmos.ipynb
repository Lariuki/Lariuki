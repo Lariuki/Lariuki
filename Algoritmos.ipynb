{
 "cells": [
  {
   "cell_type": "markdown",
   "metadata": {},
   "source": [
    "# Capítulo 1 "
   ]
  },
  {
   "cell_type": "code",
   "execution_count": 12,
   "metadata": {},
   "outputs": [
    {
     "name": "stdout",
     "output_type": "stream",
     "text": [
      "7.0\n",
      "8.0\n"
     ]
    }
   ],
   "source": [
    "# Suponha que você tenha uma lista com 128 nomes e esteja fazendo uma pesquisa binária. Qual seria o número máximo de etapas que você levaria para encontrar o nome desejado?\n",
    "import math\n",
    "\n",
    "result = math.log2(128)\n",
    "print(result)\n",
    "\n",
    "# Suponha que você duplique o tamanho da lista. Qual seria o número máximo de etapas agora?\n",
    "\n",
    "result_dobro = math.log2(256)\n",
    "print(result_dobro)"
   ]
  },
  {
   "cell_type": "code",
   "execution_count": 13,
   "metadata": {},
   "outputs": [
    {
     "name": "stdout",
     "output_type": "stream",
     "text": [
      "[{'name': 'Alice', 'phone': '123-456-7890'}, {'name': 'Bob', 'phone': '987-654-3210'}, {'name': 'Charlie', 'phone': '555-555-5555'}]\n"
     ]
    }
   ],
   "source": [
    "phone_book = [\n",
    "    {'name': 'Alice', 'phone': '123-456-7890'},\n",
    "    {'name': 'Bob', 'phone': '987-654-3210'},\n",
    "    {'name': 'Charlie', 'phone': '555-555-5555'}\n",
    "]\n",
    "print(phone_book)"
   ]
  },
  {
   "cell_type": "code",
   "execution_count": 14,
   "metadata": {},
   "outputs": [
    {
     "name": "stdout",
     "output_type": "stream",
     "text": [
      "987-654-3210\n"
     ]
    }
   ],
   "source": [
    "# Pesquisa linear\n",
    "def linear_search(phone_book, name):\n",
    "    for entry in phone_book:\n",
    "        if entry['name'] == name:\n",
    "            return entry['phone']\n",
    "    return None\n",
    "\n",
    "name_to_find = 'Bob'\n",
    "phone_number = linear_search(phone_book, name_to_find)\n",
    "print(phone_number)"
   ]
  },
  {
   "cell_type": "code",
   "execution_count": 15,
   "metadata": {},
   "outputs": [
    {
     "name": "stdout",
     "output_type": "stream",
     "text": [
      "555-555-5555\n"
     ]
    }
   ],
   "source": [
    "# Pesquisa binária\n",
    "def binary_search(phone_book, name):\n",
    "    low = 0\n",
    "    high = len(phone_book) - 1\n",
    "\n",
    "    while low <= high:\n",
    "        mid = (low + high) // 2\n",
    "        if phone_book[mid]['name'] < name:\n",
    "            low = mid + 1\n",
    "        elif phone_book[mid]['name'] > name:\n",
    "            high = mid - 1\n",
    "        else:\n",
    "            return phone_book[mid]['phone']\n",
    "    return None\n",
    "\n",
    "name_to_find = 'Charlie'\n",
    "phone_number = binary_search(phone_book, name_to_find)\n",
    "print(phone_number)"
   ]
  },
  {
   "cell_type": "code",
   "execution_count": 16,
   "metadata": {},
   "outputs": [
    {
     "name": "stdout",
     "output_type": "stream",
     "text": [
      "123-456-7890\n"
     ]
    }
   ],
   "source": [
    "# Pesquisa usando um dicionário \n",
    "def create_phone_dict(phone_book):\n",
    "    phone_dict = {}\n",
    "    for entry in phone_book:\n",
    "        phone_dict[entry['name']] = entry['phone']\n",
    "    return phone_dict\n",
    "\n",
    "phone_dict = create_phone_dict(phone_book)\n",
    "name_to_find = 'Alice'\n",
    "phone_number = phone_dict.get(name_to_find)\n",
    "print(phone_number)"
   ]
  },
  {
   "cell_type": "code",
   "execution_count": 17,
   "metadata": {},
   "outputs": [
    {
     "name": "stdout",
     "output_type": "stream",
     "text": [
      "Alice: 123-456-7890\n",
      "Bob: 987-654-3210\n",
      "Charlie: 555-555-5555\n"
     ]
    }
   ],
   "source": [
    "# Exibindo todos os números de telefone \n",
    "def print_all_phone_numbers(phone_book):\n",
    "    for entry in phone_book:\n",
    "        print(f\"{entry['name']}: {entry['phone']}\")\n",
    "        \n",
    "print_all_phone_numbers(phone_book)"
   ]
  },
  {
   "cell_type": "code",
   "execution_count": 18,
   "metadata": {},
   "outputs": [
    {
     "name": "stdout",
     "output_type": "stream",
     "text": [
      "Tempo de execução: 0.23080992698669434 segundos\n"
     ]
    }
   ],
   "source": [
    "# O tempo de execução de um algoritmo é medido por meio de seu crescimento e é expresso na notação Big O\n",
    "# A eficiência de um algoritmo é medida principalmente pela sua complexidade de tempo e espaço, utilizando a notação Big O para descrever como essas medidas crescem com o tamanho da entrada.\n",
    "import time\n",
    "\n",
    "def sample_algorithm(n):\n",
    "    # Exemplo de um algoritmo O(n)\n",
    "    total = 0\n",
    "    for i in range(n):\n",
    "        total += i\n",
    "    return total\n",
    "\n",
    "# Medição de tempo\n",
    "start_time = time.time()\n",
    "sample_algorithm(1000000)\n",
    "end_time = time.time()\n",
    "print(f\"Tempo de execução: {end_time - start_time} segundos\")"
   ]
  },
  {
   "cell_type": "code",
   "execution_count": 9,
   "metadata": {},
   "outputs": [
    {
     "ename": "ModuleNotFoundError",
     "evalue": "No module named 'memory_profiler'",
     "output_type": "error",
     "traceback": [
      "\u001b[0;31m---------------------------------------------------------------------------\u001b[0m",
      "\u001b[0;31mModuleNotFoundError\u001b[0m                       Traceback (most recent call last)",
      "Cell \u001b[0;32mIn[9], line 1\u001b[0m\n\u001b[0;32m----> 1\u001b[0m \u001b[38;5;28;01mfrom\u001b[39;00m \u001b[38;5;21;01mmemory_profiler\u001b[39;00m \u001b[38;5;28;01mimport\u001b[39;00m profile\n\u001b[1;32m      3\u001b[0m \u001b[38;5;129m@profile\u001b[39m\n\u001b[1;32m      4\u001b[0m \u001b[38;5;28;01mdef\u001b[39;00m \u001b[38;5;21msample_algorithm\u001b[39m(n):\n\u001b[1;32m      5\u001b[0m     \u001b[38;5;66;03m# Exemplo de um algoritmo O(n)\u001b[39;00m\n\u001b[1;32m      6\u001b[0m     total \u001b[38;5;241m=\u001b[39m \u001b[38;5;241m0\u001b[39m\n",
      "\u001b[0;31mModuleNotFoundError\u001b[0m: No module named 'memory_profiler'"
     ]
    }
   ],
   "source": [
    "# Medida do tempo usando a ferramentas de Profiling\n",
    "from memory_profiler import profile\n",
    "\n",
    "@profile\n",
    "def sample_algorithm(n):\n",
    "    # Exemplo de um algoritmo O(n)\n",
    "    total = 0\n",
    "    for i in range(n):\n",
    "        total += i\n",
    "    return total\n",
    "\n",
    "sample_algorithm(1000000)"
   ]
  },
  {
   "cell_type": "markdown",
   "metadata": {},
   "source": [
    "# Capítulo 2"
   ]
  },
  {
   "cell_type": "code",
   "execution_count": 19,
   "metadata": {},
   "outputs": [
    {
     "name": "stdout",
     "output_type": "stream",
     "text": [
      "Total de gastos no mês: R$140.75\n"
     ]
    }
   ],
   "source": [
    "# Suponha que você esteja criando um aplicativo para acompanhar as suas financas. Todos os dias você anotará tudo o que gastou e onde gastou. No final do mês, você deverá revisar os seus gastos e resumir o quanto gastou. Logo, você terá um monte de inserções e poucas leituras. \n",
    "# Você deverá usar um array ou uma lista para implementar este aplicativo?\n",
    "# A listad deverá ser utilizada para implementar o aplicativo de acompanhamento de finanças. Isso permitirá que você faça inserções diárias de maneira eficiente e revise seus gastos mensais com facilidade.\n",
    "class FinanceTracker:\n",
    "    def __init__(self):\n",
    "        self.gastos = []\n",
    "\n",
    "    def adicionar_gasto(self, descricao, valor):\n",
    "        self.gastos.append({\"descricao\": descricao, \"valor\": valor})\n",
    "\n",
    "    def revisar_gastos(self):\n",
    "        total = sum(gasto[\"valor\"] for gasto in self.gastos)\n",
    "        return total\n",
    "\n",
    "# Uso do aplicativo\n",
    "meu_tracker = FinanceTracker()\n",
    "meu_tracker.adicionar_gasto(\"Café\", 5.00)\n",
    "meu_tracker.adicionar_gasto(\"Supermercado\", 120.45)\n",
    "meu_tracker.adicionar_gasto(\"Transporte\", 15.30)\n",
    "\n",
    "# Revisão dos gastos no final do mês\n",
    "total_gastos = meu_tracker.revisar_gastos()\n",
    "print(f\"Total de gastos no mês: R${total_gastos:.2f}\")"
   ]
  },
  {
   "cell_type": "markdown",
   "metadata": {},
   "source": [
    "# Memory LangChain\n",
    "* A LangChain, sendo uma biblioteca em Python para processamento de linguagem natural, provavelmente utiliza listas para gerenciar a memória de interações e dados textuais devido à sua flexibilidade, dinamismo e facilidade de uso em Python. Arrays podem ser utilizados em casos específicos onde a eficiência de memória e desempenho numérico são críticos, mas para a maioria das operações de texto e interações, as listas são mais apropriadas.\n",
    "* Neste exemplo, a SimpleMemory utiliza uma lista (self.history) para armazenar pares de interações entre o usuário e o bot. Cada interação é uma tupla adicionada à lista, demonstrando como as listas são adequadas para esse tipo de operação."
   ]
  },
  {
   "cell_type": "code",
   "execution_count": 20,
   "metadata": {},
   "outputs": [
    {
     "name": "stdout",
     "output_type": "stream",
     "text": [
      "Usuário: Olá, como você está? | Bot: Estou bem, obrigado!\n",
      "Usuário: Qual é o clima hoje? | Bot: Hoje está ensolarado.\n"
     ]
    }
   ],
   "source": [
    "class SimpleMemory:\n",
    "    def __init__(self):\n",
    "        self.history = []\n",
    "\n",
    "    def add_interaction(self, user_input, bot_response):\n",
    "        self.history.append((user_input, bot_response))\n",
    "\n",
    "    def get_history(self):\n",
    "        return self.history\n",
    "\n",
    "# Uso da memória\n",
    "memory = SimpleMemory()\n",
    "memory.add_interaction(\"Olá, como você está?\", \"Estou bem, obrigado!\")\n",
    "memory.add_interaction(\"Qual é o clima hoje?\", \"Hoje está ensolarado.\")\n",
    "\n",
    "# Recuperar histórico\n",
    "histórico = memory.get_history()\n",
    "for interação in histórico:\n",
    "    print(f\"Usuário: {interação[0]} | Bot: {interação[1]}\")"
   ]
  }
 ],
 "metadata": {
  "kernelspec": {
   "display_name": "Python 3",
   "language": "python",
   "name": "python3"
  },
  "language_info": {
   "codemirror_mode": {
    "name": "ipython",
    "version": 3
   },
   "file_extension": ".py",
   "mimetype": "text/x-python",
   "name": "python",
   "nbconvert_exporter": "python",
   "pygments_lexer": "ipython3",
   "version": "3.9.6"
  }
 },
 "nbformat": 4,
 "nbformat_minor": 2
}
